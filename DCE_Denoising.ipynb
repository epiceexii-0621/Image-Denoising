{
  "nbformat": 4,
  "nbformat_minor": 0,
  "metadata": {
    "colab": {
      "provenance": [],
      "gpuType": "T4"
    },
    "kernelspec": {
      "name": "python3",
      "display_name": "Python 3"
    },
    "language_info": {
      "name": "python"
    },
    "accelerator": "GPU"
  },
  "cells": [
    {
      "cell_type": "code",
      "execution_count": null,
      "metadata": {
        "id": "HbsAopPnevsL"
      },
      "outputs": [],
      "source": [
        "import os\n",
        "import random\n",
        "import numpy as np\n",
        "from glob import glob\n",
        "import scipy.io\n",
        "\n",
        "import shutil\n",
        "import zipfile\n",
        "from PIL import Image,ImageOps\n",
        "import matplotlib.pyplot as plt\n",
        "import tensorflow as tf\n",
        "\n",
        "from tensorflow import keras\n",
        "from tensorflow.keras import layers"
      ]
    },
    {
      "cell_type": "code",
      "source": [
        "from google.colab import drive\n",
        "drive.mount('/content/drive')\n"
      ],
      "metadata": {
        "colab": {
          "base_uri": "https://localhost:8080/"
        },
        "id": "_1Ml8Qzme26P",
        "outputId": "3cf84088-4406-498f-8180-91242360f8e9"
      },
      "execution_count": null,
      "outputs": [
        {
          "output_type": "stream",
          "name": "stdout",
          "text": [
            "Mounted at /content/drive\n"
          ]
        }
      ]
    },
    {
      "cell_type": "code",
      "source": [
        "IMAGE_SIZE=256\n",
        "BATCH_SIZE=16\n",
        "MAX_TRAIN_IMAGES=400\n",
        "\n",
        "\n",
        "train_low_light_images=sorted(glob(\"/content/drive/MyDrive/Colab Notebooks/Train/low/*\"))[:MAX_TRAIN_IMAGES]\n",
        "val_low_light_images=sorted(glob(\"/content/drive/MyDrive/Colab Notebooks/Train/low/*\"))[MAX_TRAIN_IMAGES:]\n",
        "\n",
        "print(\"Train Images:\", len(train_low_light_images))\n",
        "print(\"Validation Images:\", len(val_low_light_images))"
      ],
      "metadata": {
        "colab": {
          "base_uri": "https://localhost:8080/"
        },
        "id": "DDIqch61fDW0",
        "outputId": "685e403b-8da0-4964-cd27-da47a3c943da"
      },
      "execution_count": null,
      "outputs": [
        {
          "output_type": "stream",
          "name": "stdout",
          "text": [
            "Train Images: 400\n",
            "Validation Images: 85\n"
          ]
        }
      ]
    },
    {
      "cell_type": "code",
      "source": [
        "def loaddata(image_path):\n",
        "    image=tf.io.read_file(image_path)\n",
        "    image=tf.image.decode_png(image,channels=3)\n",
        "    image=tf.image.resize(images=image,size=[IMAGE_SIZE,IMAGE_SIZE])\n",
        "    image=image/255.0\n",
        "    return image\n",
        "\n",
        "\n",
        "def data_generator(llimages):\n",
        "    dataset=tf.data.Dataset.from_tensor_slices((llimages))\n",
        "    dataset =dataset.map(loaddata,num_parallel_calls=tf.data.AUTOTUNE)\n",
        "    dataset=dataset.batch(BATCH_SIZE,drop_remainder=True)\n",
        "    return dataset"
      ],
      "metadata": {
        "id": "oDR2Q0GNf0NP"
      },
      "execution_count": null,
      "outputs": []
    },
    {
      "cell_type": "code",
      "source": [
        "train_dataset=data_generator(train_low_light_images)\n",
        "val_dataset=data_generator(val_low_light_images)"
      ],
      "metadata": {
        "id": "1C-Hifkjf0Hv"
      },
      "execution_count": null,
      "outputs": []
    },
    {
      "cell_type": "code",
      "source": [
        "def build_dce_net():\n",
        "    input_img = keras.Input(shape=[None, None, 3])\n",
        "    conv1 = layers.Conv2D(32, (3, 3), strides=(1, 1), activation='relu', padding=\"same\")(input_img)\n",
        "    conv2 = layers.Conv2D(32, (3, 3), strides=(1, 1), activation='relu', padding=\"same\")(conv1)\n",
        "    conv3 = layers.Conv2D(32, (3, 3), strides=(1, 1), activation='relu', padding=\"same\")(conv2)\n",
        "    conv4 = layers.Conv2D(32, (3, 3), strides=(1, 1), activation='relu', padding=\"same\")(conv3)\n",
        "    int_con1 = layers.Concatenate(axis=-1)([conv4, conv3])\n",
        "    conv5 = layers.Conv2D(32, (3, 3), strides=(1, 1), activation='relu', padding=\"same\")(int_con1)\n",
        "    int_con2 = layers.Concatenate(axis=-1)([conv5, conv2])\n",
        "    conv6 = layers.Conv2D(32, (3, 3), strides=(1, 1), activation='relu', padding=\"same\")(int_con2)\n",
        "    int_con3 = layers.Concatenate(axis=-1)([conv6, conv1])\n",
        "    output = layers.Conv2D(24, (3, 3), strides=(1, 1), activation=\"tanh\", padding=\"same\")(int_con3)\n",
        "    return keras.Model(inputs=input_img, outputs=output)"
      ],
      "metadata": {
        "id": "akP7UOfQf0FT"
      },
      "execution_count": null,
      "outputs": []
    },
    {
      "cell_type": "code",
      "source": [
        "def color_constancy_loss (x):\n",
        "  mean_rgb = tf.reduce_mean(x, axis=(1, 2), keepdims=True)\n",
        "  mr, mg, mb =mean_rgb[:,:, :, 0], mean_rgb[:, :,:, 1], mean_rgb[:, :, :, 2]\n",
        "  d_rg =tf.square(mr - mg)\n",
        "  d_rb = tf.square(mr - mb)\n",
        "  d_gb = tf.square(mb - mg)\n",
        "  return tf.sqrt(tf.square (d_rg) + tf.square (d_rb) + tf.square (d_gb))"
      ],
      "metadata": {
        "id": "phbyt2_vf0Be"
      },
      "execution_count": null,
      "outputs": []
    },
    {
      "cell_type": "code",
      "source": [
        "def exposure_loss (x, mean_val=0.6):\n",
        "  x = tf.reduce_mean(x, axis=3, keepdims=True)\n",
        "  mean = tf.nn.avg_pool2d(x, ksize=16, strides=16, padding=\"VALID\")\n",
        "  return tf.reduce_mean (tf.square (mean -mean_val))"
      ],
      "metadata": {
        "id": "mQlIMOd2fz_F"
      },
      "execution_count": null,
      "outputs": []
    },
    {
      "cell_type": "code",
      "source": [
        "def illumination_smoothness_loss(x):\n",
        "    batch_size = tf.shape(x)[0]\n",
        "    h_x = tf.shape(x)[1]\n",
        "    w_x = tf.shape(x)[2]\n",
        "    count_h = (h_x - 1) * w_x\n",
        "    count_w = h_x * (w_x - 1)\n",
        "    h_tv = tf.reduce_sum(tf.square(x[:, 1:, :, :] - x[:, :h_x - 1, :, :]))\n",
        "    w_tv = tf.reduce_sum(tf.square(x[:, :, 1:, :] - x[:, :, :w_x - 1, :]))\n",
        "    batch_size = tf.cast(batch_size, dtype=tf.float32)\n",
        "    count_h = tf.cast(count_h, dtype=tf.float32)\n",
        "    count_w = tf.cast(count_w, dtype=tf.float32)\n",
        "    return 2 * (h_tv / count_h + w_tv / count_w) / batch_size\n"
      ],
      "metadata": {
        "id": "m5k9u7m5fz8s"
      },
      "execution_count": null,
      "outputs": []
    },
    {
      "cell_type": "code",
      "source": [
        "class SpatialConsistencyLoss(keras.losses.Loss):\n",
        "    def __init__(self, **kwargs):\n",
        "        super().__init__(reduction=\"none\")\n",
        "\n",
        "        self.left_kernel = tf.constant(\n",
        "            [[[[0, 0, 0]], [[-1, 1, 0]], [[0, 0, 0]]]], dtype=tf.float32\n",
        "        )\n",
        "        self.right_kernel = tf.constant(\n",
        "            [[[[0, 0, 0]], [[0, 1, -1]], [[0, 0, 0]]]], dtype=tf.float32\n",
        "        )\n",
        "        self.up_kernel = tf.constant(\n",
        "            [[[[0, -1, 0]], [[0, 1, 0]], [[0, 0, 0]]]], dtype=tf.float32\n",
        "        )\n",
        "        self.down_kernel = tf.constant(\n",
        "            [[[[0, 0, 0]], [[0, 1, 0]], [[0, -1, 0]]]], dtype=tf.float32\n",
        "        )\n",
        "\n",
        "    def call(self, y_true, y_pred):\n",
        "        original_mean = tf.reduce_mean(y_true, 3, keepdims=True)\n",
        "        enhanced_mean = tf.reduce_mean(y_pred, 3, keepdims=True)\n",
        "        original_pool = tf.nn.avg_pool2d(\n",
        "            original_mean, ksize=4, strides=4, padding=\"VALID\"\n",
        "        )\n",
        "        enhanced_pool = tf.nn.avg_pool2d(\n",
        "            enhanced_mean, ksize=4, strides=4, padding=\"VALID\"\n",
        "        )\n",
        "\n",
        "        d_original_left = tf.nn.conv2d(\n",
        "            original_pool,\n",
        "            self.left_kernel,\n",
        "            strides=[1, 1, 1, 1],\n",
        "            padding=\"SAME\",\n",
        "        )\n",
        "        d_original_right = tf.nn.conv2d(\n",
        "            original_pool,\n",
        "            self.right_kernel,\n",
        "            strides=[1, 1, 1, 1],\n",
        "            padding=\"SAME\",\n",
        "        )\n",
        "        d_original_up = tf.nn.conv2d(\n",
        "            original_pool, self.up_kernel, strides=[1, 1, 1, 1], padding=\"SAME\"\n",
        "        )\n",
        "        d_original_down = tf.nn.conv2d(\n",
        "            original_pool,\n",
        "            self.down_kernel,\n",
        "            strides=[1, 1, 1, 1],\n",
        "            padding=\"SAME\",\n",
        "        )\n",
        "\n",
        "        d_enhanced_left = tf.nn.conv2d(\n",
        "            enhanced_pool,\n",
        "            self.left_kernel,\n",
        "            strides=[1, 1, 1, 1],\n",
        "            padding=\"SAME\",\n",
        "        )\n",
        "        d_enhanced_right = tf.nn.conv2d(\n",
        "            enhanced_pool,\n",
        "            self.right_kernel,\n",
        "            strides=[1, 1, 1, 1],\n",
        "            padding=\"SAME\",\n",
        "        )\n",
        "        d_enhanced_up = tf.nn.conv2d(\n",
        "            enhanced_pool, self.up_kernel, strides=[1, 1, 1, 1], padding=\"SAME\"\n",
        "        )\n",
        "        d_enhanced_down = tf.nn.conv2d(\n",
        "            enhanced_pool,\n",
        "            self.down_kernel,\n",
        "            strides=[1, 1, 1, 1],\n",
        "            padding=\"SAME\",\n",
        "        )\n",
        "\n",
        "        d_left = tf.square(d_original_left - d_enhanced_left)\n",
        "        d_right = tf.square(d_original_right - d_enhanced_right)\n",
        "        d_up = tf.square(d_original_up - d_enhanced_up)\n",
        "        d_down = tf.square(d_original_down - d_enhanced_down)\n",
        "        return d_left + d_right + d_up + d_down"
      ],
      "metadata": {
        "id": "Fjuum2tNfz6H"
      },
      "execution_count": null,
      "outputs": []
    },
    {
      "cell_type": "code",
      "source": [
        "class ZeroDCE(keras.Model):\n",
        "    def __init__(self, **kwargs):\n",
        "        super().__init__(**kwargs)\n",
        "        self.dce_model = build_dce_net()\n",
        "\n",
        "\n",
        "    def compile(self, learning_rate, **kwargs):\n",
        "        super().compile(**kwargs)\n",
        "        self.optimizer = keras.optimizers.Adam(learning_rate=learning_rate)\n",
        "        self.spatial_constancy_loss = SpatialConsistencyLoss(reduction=\"none\")\n",
        "        self.total_loss_tracker = keras.metrics.Mean(name=\"total_loss\")\n",
        "        self.illumination_smoothness_loss_tracker = keras.metrics.Mean(\n",
        "            name=\"illumination_smoothness_loss\"\n",
        "        )\n",
        "        self.spatial_constancy_loss_tracker = keras.metrics.Mean(\n",
        "            name=\"spatial_constancy_loss\"\n",
        "        )\n",
        "        self.color_constancy_loss_tracker = keras.metrics.Mean(\n",
        "            name=\"color_constancy_loss\"\n",
        "        )\n",
        "        self.exposure_loss_tracker = keras.metrics.Mean(name=\"exposure_loss\")\n",
        "\n",
        "    @property\n",
        "    def metrics(self):\n",
        "        return [\n",
        "            self.total_loss_tracker,\n",
        "            self.illumination_smoothness_loss_tracker,\n",
        "            self.spatial_constancy_loss_tracker,\n",
        "            self.color_constancy_loss_tracker,\n",
        "            self.exposure_loss_tracker,\n",
        "        ]\n",
        "\n",
        "    def get_enhanced_image(self, data, output):\n",
        "        r1 = output[:, :, :, :3]\n",
        "        r2 = output[:, :, :, 3:6]\n",
        "        r3 = output[:, :, :, 6:9]\n",
        "        r4 = output[:, :, :, 9:12]\n",
        "        r5 = output[:, :, :, 12:15]\n",
        "        r6 = output[:, :, :, 15:18]\n",
        "        r7 = output[:, :, :, 18:21]\n",
        "        r8 = output[:, :, :, 21:24]\n",
        "        x = data + r1 * (tf.square(data) - data)\n",
        "        x = x + r2 * (tf.square(x) - x)\n",
        "        x = x + r3 * (tf.square(x) - x)\n",
        "        enhanced_image = x + r4 * (tf.square(x) - x)\n",
        "        x = enhanced_image + r5 * (tf.square(enhanced_image) - enhanced_image)\n",
        "        x = x + r6 * (tf.square(x) - x)\n",
        "        x = x + r7 * (tf.square(x) - x)\n",
        "        enhanced_image = x + r8 * (tf.square(x) - x)\n",
        "        return enhanced_image\n",
        "\n",
        "    def call(self, data):\n",
        "        dce_net_output = self.dce_model(data)\n",
        "        return self.get_enhanced_image(data, dce_net_output)\n",
        "\n",
        "    def compute_losses(self, data, output):\n",
        "        enhanced_image = self.get_enhanced_image(data, output)\n",
        "        loss_illumination = 200 * illumination_smoothness_loss(output)\n",
        "        loss_spatial_constancy = tf.reduce_mean(\n",
        "            self.spatial_constancy_loss(enhanced_image, data)\n",
        "        )\n",
        "        loss_color_constancy = 5 * tf.reduce_mean(color_constancy_loss(enhanced_image))\n",
        "        loss_exposure = 10 * tf.reduce_mean(exposure_loss(enhanced_image))\n",
        "        total_loss = (\n",
        "            loss_illumination\n",
        "            + loss_spatial_constancy\n",
        "            + loss_color_constancy\n",
        "            + loss_exposure\n",
        "        )\n",
        "\n",
        "        return {\n",
        "            \"total_loss\": total_loss,\n",
        "            \"illumination_smoothness_loss\": loss_illumination,\n",
        "            \"spatial_constancy_loss\": loss_spatial_constancy,\n",
        "            \"color_constancy_loss\": loss_color_constancy,\n",
        "            \"exposure_loss\": loss_exposure,\n",
        "        }\n",
        "\n",
        "    def train_step(self, data):\n",
        "        with tf.GradientTape() as tape:\n",
        "            output = self.dce_model(data)\n",
        "            losses = self.compute_losses(data, output)\n",
        "\n",
        "        gradients = tape.gradient(\n",
        "            losses[\"total_loss\"], self.dce_model.trainable_weights\n",
        "        )\n",
        "        self.optimizer.apply_gradients(zip(gradients, self.dce_model.trainable_weights))\n",
        "\n",
        "        self.total_loss_tracker.update_state(losses[\"total_loss\"])\n",
        "        self.illumination_smoothness_loss_tracker.update_state(\n",
        "            losses[\"illumination_smoothness_loss\"]\n",
        "        )\n",
        "        self.spatial_constancy_loss_tracker.update_state(\n",
        "            losses[\"spatial_constancy_loss\"]\n",
        "        )\n",
        "        self.color_constancy_loss_tracker.update_state(losses[\"color_constancy_loss\"])\n",
        "        self.exposure_loss_tracker.update_state(losses[\"exposure_loss\"])\n",
        "\n",
        "        return {metric.name: metric.result() for metric in self.metrics}\n",
        "\n",
        "    def test_step(self, data):\n",
        "        output = self.dce_model(data)\n",
        "        losses = self.compute_losses(data, output)\n",
        "\n",
        "        self.total_loss_tracker.update_state(losses[\"total_loss\"])\n",
        "        self.illumination_smoothness_loss_tracker.update_state(\n",
        "            losses[\"illumination_smoothness_loss\"]\n",
        "        )\n",
        "        self.spatial_constancy_loss_tracker.update_state(\n",
        "            losses[\"spatial_constancy_loss\"]\n",
        "        )\n",
        "        self.color_constancy_loss_tracker.update_state(losses[\"color_constancy_loss\"])\n",
        "        self.exposure_loss_tracker.update_state(losses[\"exposure_loss\"])\n",
        "\n",
        "        return {metric.name: metric.result() for metric in self.metrics}\n",
        "\n",
        "    def save_weights(self, filepath, overwrite=True, save_format=None, options=None):\n",
        "        \"\"\"While saving the weights, we simply save the weights of the DCE-Net\"\"\"\n",
        "        self.dce_model.save_weights(\n",
        "            filepath,\n",
        "            overwrite=overwrite,\n",
        "            save_format=save_format,\n",
        "            options=options,\n",
        "        )\n",
        "\n",
        "    def load_weights(self, filepath, by_name=False, skip_mismatch=False, options=None):\n",
        "        \"\"\"While loading the weights, we simply load the weights of the DCE-Net\"\"\"\n",
        "        self.dce_model.load_weights(\n",
        "            filepath=filepath,\n",
        "            by_name=by_name,\n",
        "            skip_mismatch=skip_mismatch,\n",
        "            options=options,\n",
        "        )\n"
      ],
      "metadata": {
        "id": "Vp52AVOnfzxW"
      },
      "execution_count": null,
      "outputs": []
    },
    {
      "cell_type": "code",
      "source": [
        "zero_dce_model = ZeroDCE()\n",
        "zero_dce_model.compile(learning_rate=1e-4)\n",
        "history = zero_dce_model.fit(train_dataset, validation_data=val_dataset, epochs=100)\n",
        "\n",
        "\n",
        "def plot_result(item):\n",
        "    plt.plot(history.history[item], label=item)\n",
        "    plt.plot(history.history[\"val_\" + item], label=\"val_\" + item)\n",
        "    plt.xlabel(\"Epochs\")\n",
        "    plt.ylabel(item)\n",
        "    plt.title(\"Train and Validation {} Over Epochs\".format(item), fontsize=14)\n",
        "    plt.legend()\n",
        "    plt.grid()\n",
        "    plt.show()\n",
        "\n",
        "plot_result(\"total_loss\")\n",
        "plot_result(\"illumination_smoothness_loss\")\n",
        "plot_result(\"spatial_constancy_loss\")\n",
        "plot_result(\"color_constancy_loss\")\n",
        "plot_result(\"exposure_loss\")"
      ],
      "metadata": {
        "colab": {
          "base_uri": "https://localhost:8080/"
        },
        "id": "c7PVfGSDfzu3",
        "outputId": "8657333e-0939-4def-c661-d574f12e0c3f"
      },
      "execution_count": null,
      "outputs": [
        {
          "output_type": "stream",
          "name": "stdout",
          "text": [
            "Epoch 1/100\n",
            "25/25 [==============================] - 677s 27s/step - total_loss: 3.0764 - illumination_smoothness_loss: 0.1337 - spatial_constancy_loss: 1.7517e-05 - color_constancy_loss: 0.0026 - exposure_loss: 2.9401 - val_total_loss: 3.1012 - val_illumination_smoothness_loss: 0.1702 - val_spatial_constancy_loss: 5.1044e-05 - val_color_constancy_loss: 0.0023 - val_exposure_loss: 2.9287\n",
            "Epoch 2/100\n",
            "21/25 [========================>.....] - ETA: 1:41 - total_loss: 2.9749 - illumination_smoothness_loss: 0.0980 - spatial_constancy_loss: 3.6508e-04 - color_constancy_loss: 0.0033 - exposure_loss: 2.8732"
          ]
        }
      ]
    },
    {
      "cell_type": "code",
      "source": [
        "def plot_results(images, titles, figure_size=(12, 12)):\n",
        "    fig = plt.figure(figsize=figure_size)\n",
        "    for i in range(len(images)):\n",
        "        fig.add_subplot(1, len(images), i + 1).set_title(titles[i])\n",
        "        plt.imshow(images[i])\n",
        "    plt.axis(\"off\")\n",
        "    plt.show()\n",
        "\n",
        "# Function to enhance image using the model\n",
        "def infer(original_image):\n",
        "\n",
        "    image = keras.preprocessing.image.img_to_array(original_image)\n",
        "    image = image.astype(\"float32\") / 255.0\n",
        "    image = np.expand_dims(image, axis=0)\n",
        "    output_image = zero_dce_model(image)\n",
        "    output_image = tf.cast((output_image[0, :, :, :] * 255), dtype=np.uint8)\n",
        "    output_image = Image.fromarray(output_image.numpy())\n",
        "    return output_image"
      ],
      "metadata": {
        "id": "xlM2BV0VgDsQ"
      },
      "execution_count": null,
      "outputs": []
    },
    {
      "cell_type": "code",
      "source": [
        "import tensorflow as tf\n",
        "import cv2\n",
        "from math import log10,sqrt\n",
        "# from preprocess import get_color_map\n",
        "sum=0\n",
        "def PSNR(gt, image):\n",
        "    \"\"\"\"Function to calculate peak signal-to-noise ratio (PSNR) between two images.\"\"\"\n",
        "    height, width , channels= gt.shape\n",
        "    gt=cv2.resize(gt, (width//40*40,height//40*40), interpolation=cv2.INTER_CUBIC)\n",
        "    mse = np.mean((gt - image) ** 2)\n",
        "    if mse == 0:\n",
        "        return 100\n",
        "    return 20 * np.log10(255.0 / (np.sqrt(mse)))\n",
        "\n",
        "def process_and_convert_images(input_files, output_dir, camera_model):\n",
        "    for val_image_file in input_files:\n",
        "        original_image = Image.open(val_image_file)\n",
        "        enhanced_image = infer(original_image)\n",
        "\n",
        "        # Display the results\n",
        "        plot_results(\n",
        "            [original_image, ImageOps.autocontrast(original_image), enhanced_image],\n",
        "            [\"Original\", \"PIL Autocontrast\", \"Enhanced\"],\n",
        "            (20, 12),\n",
        "        )\n",
        "        ori=cv2.imread(val_image_file)  # Pass the file path to cv2.imread()\n",
        "        enhanced_image.save('temp.jpg')  # Save the enhanced image to a temporary file\n",
        "        enh=cv2.imread('temp.jpg')  # Read the temporary file\n",
        "        print(f\"PSNR: {PSNR(enh, ori)}\")  # Remove.numpy() because PSNR returns a scalar value\n",
        "\n",
        "        sum+=PSNR(ori,enh)\n",
        "        # Define output path\n",
        "        output_path = os.path.join(output_dir, camera_model)\n",
        "        os.makedirs(output_path, exist_ok=True)\n",
        "\n",
        "        # Optionally, save enhanced images (skipping.mat conversion)\n",
        "        enhanced_image.save(os.path.join(output_path, os.path.basename(val_image_file)))\n",
        "\n",
        "# Define the directories for processing\n",
        "output_dir = '/content/drive/MyDrive/test/predicted'\n",
        "\n",
        "# Assuming test1_llimages, test2_llimages, test3_llimages, and test4_llimages are defined lists of input file paths\n",
        "process_and_convert_images(val_low_light_images, output_dir, 'val')"
      ],
      "metadata": {
        "id": "n0pQLIyJaWsW"
      },
      "execution_count": null,
      "outputs": []
    },
    {
      "cell_type": "code",
      "source": [],
      "metadata": {
        "id": "yLxpIKpwgGJt"
      },
      "execution_count": null,
      "outputs": []
    }
  ]
}